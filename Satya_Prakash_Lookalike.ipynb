{
 "cells": [
  {
   "cell_type": "markdown",
   "id": "04c09e2d-9a9f-4668-8f98-f06b5189a5e4",
   "metadata": {},
   "source": []
  },
  {
   "cell_type": "markdown",
   "id": "b09b252f-f2a8-4733-8083-720754ada882",
   "metadata": {},
   "source": [
    "Importing Libraries"
   ]
  },
  {
   "cell_type": "code",
   "execution_count": 34,
   "id": "5227a156-1232-4412-aac6-d1d081d28786",
   "metadata": {},
   "outputs": [],
   "source": [
    "import pandas as pd\n",
    "from sklearn.metrics.pairwise import cosine_similarity\n",
    "from sklearn.preprocessing import StandardScaler\n",
    "from mlxtend.frequent_patterns import apriori, association_rules"
   ]
  },
  {
   "cell_type": "markdown",
   "id": "aa3fa465-61b2-4e4b-a0d6-728583b13ed5",
   "metadata": {},
   "source": [
    "Load the datasets"
   ]
  },
  {
   "cell_type": "code",
   "execution_count": 35,
   "id": "22f38d43-0e68-460d-b950-0028ec101551",
   "metadata": {},
   "outputs": [],
   "source": [
    "customers = pd.read_csv('Datasets/Customers.csv')\n",
    "products = pd.read_csv('Datasets/Products.csv')\n",
    "transactions = pd.read_csv('Datasets/Transactions.csv')"
   ]
  },
  {
   "cell_type": "markdown",
   "id": "774caed0-6c51-45bf-b296-fef49e4fc9c9",
   "metadata": {},
   "source": [
    "Feature Engineering"
   ]
  },
  {
   "cell_type": "code",
   "execution_count": 36,
   "id": "3b56066f-1e5f-4f2f-bbb1-6572563b9da0",
   "metadata": {},
   "outputs": [],
   "source": [
    "# Aggregating transaction data for customer features\n",
    "customer_features = transactions.groupby('CustomerID').agg({\n",
    "    'Quantity': 'sum',\n",
    "    'TotalValue': 'sum'\n",
    "}).reset_index()"
   ]
  },
  {
   "cell_type": "code",
   "execution_count": 37,
   "id": "bce4bbc3-9557-475a-972f-40ed70a17649",
   "metadata": {},
   "outputs": [],
   "source": [
    "# Merging with customer data\n",
    "customer_features = pd.merge(customer_features, customers, on='CustomerID')"
   ]
  },
  {
   "cell_type": "code",
   "execution_count": 38,
   "id": "47edb4c3-0987-4162-b66c-3ee8fc61c2ef",
   "metadata": {},
   "outputs": [],
   "source": [
    "#Scaling the features\n",
    "scaler = StandardScaler()\n",
    "scaled_features = scaler.fit_transform(customer_features[['Quantity', 'TotalValue']])"
   ]
  },
  {
   "cell_type": "markdown",
   "id": "fb5c8572-5503-4ab6-b85d-7c63e7a56045",
   "metadata": {},
   "source": [
    "COSINE Similarity Model"
   ]
  },
  {
   "cell_type": "code",
   "execution_count": 39,
   "id": "182787f5-a068-4285-b97a-49bb52e3235b",
   "metadata": {},
   "outputs": [],
   "source": [
    "# Calculation of cosine similarity\n",
    "similarity_matrix = cosine_similarity(scaled_features)"
   ]
  },
  {
   "cell_type": "code",
   "execution_count": 40,
   "id": "04ad3458-d98b-4e76-8abb-6f7d9e74ee19",
   "metadata": {},
   "outputs": [],
   "source": [
    "# Recommendation of top 3 similar customers using cosine similarity\n",
    "lookalike_results_cosine = {}\n",
    "for idx, customer_id in enumerate(customer_features['CustomerID']):\n",
    "    similar_indices = similarity_matrix[idx].argsort()[-4:-1][::-1]  # Exclude self\n",
    "    lookalike_results_cosine[customer_id] = [\n",
    "        (customer_features['CustomerID'][i], similarity_matrix[idx][i]) for i in similar_indices\n",
    "    ]"
   ]
  },
  {
   "cell_type": "markdown",
   "id": "1e967d80-0ce5-4c13-a3c6-057498ffc393",
   "metadata": {},
   "source": [
    "APRIORI Model"
   ]
  },
  {
   "cell_type": "code",
   "execution_count": 41,
   "id": "efd2e012-ebe4-4ece-b3c2-cb3668a7193c",
   "metadata": {},
   "outputs": [],
   "source": [
    "# Preparing data for apriori algorithm\n",
    "basket = transactions.pivot_table(index='CustomerID', columns='ProductID', values='Quantity', fill_value=0)"
   ]
  },
  {
   "cell_type": "code",
   "execution_count": 42,
   "id": "324f1e05-1896-4273-8d5b-23ae494c3595",
   "metadata": {},
   "outputs": [],
   "source": [
    "# Applying apriori algorithm\n",
    "frequent_itemsets = apriori(basket > 0, min_support=0.05, use_colnames=True)\n",
    "rules = association_rules(frequent_itemsets, metric=\"lift\", min_threshold=1.0)"
   ]
  },
  {
   "cell_type": "code",
   "execution_count": 43,
   "id": "2a0dab8b-87f4-456f-b515-7815d49d50e4",
   "metadata": {},
   "outputs": [],
   "source": [
    "# Extracting recommendations based on shared product patterns\n",
    "lookalike_results_apriori = {}\n",
    "for customer_id in basket.index:\n",
    "    purchased_products = basket.loc[customer_id][basket.loc[customer_id] > 0].index.tolist()\n",
    "    recommended_customers = []\n",
    "    for _, rule in rules.iterrows():\n",
    "        if set(rule['antecedents']).issubset(purchased_products):\n",
    "            consequents = list(rule['consequents'])\n",
    "            for consequent in consequents:\n",
    "                similar_customers = basket[basket[consequent] > 0].index.tolist()\n",
    "                for similar_customer in similar_customers:\n",
    "                    if similar_customer != customer_id:\n",
    "                        recommended_customers.append(similar_customer)\n",
    "    # Assign similarity score (frequency of recommendation)\n",
    "    recommended_customers = pd.Series(recommended_customers).value_counts()\n",
    "    lookalike_results_apriori[customer_id] = [\n",
    "        (cust, score) for cust, score in recommended_customers.items()\n",
    "    ][:3]"
   ]
  },
  {
   "cell_type": "markdown",
   "id": "0cbd7e0d-4f9b-4912-97b5-368f06f6ab98",
   "metadata": {},
   "source": [
    "Save Results"
   ]
  },
  {
   "cell_type": "code",
   "execution_count": 44,
   "id": "1fab0b7f-5500-44dc-b2fb-e51675510944",
   "metadata": {},
   "outputs": [],
   "source": [
    "# Combining both models for the first 20 customers\n",
    "lookalike_combined = {}\n",
    "for customer_id in customer_features['CustomerID'][:20]:\n",
    "    lookalike_combined[customer_id] = {\n",
    "        'Cosine_Similarity': lookalike_results_cosine.get(customer_id, []),\n",
    "        'Apriori': lookalike_results_apriori.get(customer_id, [])\n",
    "    }"
   ]
  },
  {
   "cell_type": "code",
   "execution_count": 45,
   "id": "c6f7cbd2-45d1-426d-82fc-9a5566b3c85f",
   "metadata": {},
   "outputs": [
    {
     "name": "stdout",
     "output_type": "stream",
     "text": [
      "Lookalike recommendations (Cosine Similarity & Apriori) saved to 'Lookalike.csv'.\n"
     ]
    }
   ],
   "source": [
    "# Saveing results in to a CSV file\n",
    "lookalike_combined_df = pd.DataFrame([\n",
    "    {'CustomerID': k, 'Lookalikes': v} for k, v in lookalike_combined.items()\n",
    "])\n",
    "\n",
    "lookalike_combined_df.to_csv('Lookalike.csv', index=False)\n",
    "\n",
    "print(\"Lookalike recommendations (Cosine Similarity & Apriori) saved to 'Lookalike.csv'.\")\n"
   ]
  }
 ],
 "metadata": {
  "kernelspec": {
   "display_name": "Python 3 (ipykernel)",
   "language": "python",
   "name": "python3"
  },
  "language_info": {
   "codemirror_mode": {
    "name": "ipython",
    "version": 3
   },
   "file_extension": ".py",
   "mimetype": "text/x-python",
   "name": "python",
   "nbconvert_exporter": "python",
   "pygments_lexer": "ipython3",
   "version": "3.11.3"
  }
 },
 "nbformat": 4,
 "nbformat_minor": 5
}
